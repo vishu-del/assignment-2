{
 "cells": [
  {
   "cell_type": "code",
   "execution_count": null,
   "id": "ea5d3363-3e51-4a33-9935-aca5d6c35e3b",
   "metadata": {},
   "outputs": [],
   "source": [
    "\"my assignment\""
   ]
  },
  {
   "cell_type": "code",
   "execution_count": null,
   "id": "66d076f0-cbf5-4e69-99d7-07f7fe665262",
   "metadata": {},
   "outputs": [],
   "source": [
    "ans1=\"thee are tow types of comments\" \n",
    "'single-line comments:start with a hash(#) symbol'\n",
    "\n",
    "# this is my cumputer\n",
    "print(\"attendance\")\n",
    "    \n",
    "\"multi-line comment\"\n",
    "'triple quotes for crate a multi-line string that define as a comment'\n",
    "''' my name is vishal '''"
   ]
  },
  {
   "cell_type": "code",
   "execution_count": 23,
   "id": "9f60d948-8f75-44ad-85b5-fdfbf8677193",
   "metadata": {},
   "outputs": [],
   "source": [
    "ans2=Variables are used in Python to store information or values that may be accessed and changed\n",
    "while the program is running. Numbers, strings, lists, and other sorts of data can all be stored in variables.\n",
    "\n",
    "In Python, you simply use the assignment operator (=) to associate a value with a name to declare a variable.\n",
    "Python does not require a type declaration since the type of a variable is determined by the value that is assigned to it.\n",
    "name= 'vishal'\n",
    "age=19\n",
    "student:True\n",
    "\n",
    "\n",
    "ans=3\n",
    "With type conversion routines,  i can change the data type of a variable in Python. \n",
    "Typical type conversion operations include:\n",
    "\n",
    "Integerizes the argument using the int() function.\n",
    "A floating-point number is created with the function float().\n",
    "str(): Creates a string from the argument.\n",
    "list(): Creates a list from the parameter.\n",
    "The function tuple() turns an argument into a tuple.\n",
    "bool(): Changes the input to a boolean value.\n",
    "\n",
    " Convert a string to an integer\n",
    "str_num = \"42\"\n",
    "int_num = int(str_num)  \n",
    "\n",
    " Convert an integer to a string\n",
    "num = 899\n",
    "str_num = str(num)  \n",
    "\n",
    " Convert a float to an integer\n",
    "float_num = 9.14\n",
    "int_num = int(float_num)  \n",
    "\n",
    " Convert a list to a tuple\n",
    "my_list = [1, 2, 3]\n",
    "my_tuple = tuple(my_list) \n",
    "\n",
    " Convert a boolean to a string\n",
    "is_student = True\n",
    "str_status = str(is_student)  \n",
    "\n",
    "\n"
   ]
  },
  {
   "cell_type": "code",
   "execution_count": null,
   "id": "8496e153-3c14-4d81-9735-a171307bad86",
   "metadata": {},
   "outputs": [],
   "source": [
    "ans=4\n",
    "Follow these instructions to create and run a Python script from the command line:\n",
    "\n",
    "Write your Python code in a text editor (such as Notepad, VSCode, etc.). Python programs often have a \".py\" file extension, so save the document with that extension.\n",
    "\n",
    "On your PC, launch a terminal or command prompt.\n",
    "\n",
    "With the cd command, go to the directory where you saved your Python script (change directory).\n",
    "\n",
    "Simply type python, the name of the script file (including the \".py\" suffix), and enter to run the Python script.\n",
    "\n",
    "example:\n",
    "    \n",
    "    python my_script.py\n",
    "    \n",
    "\n",
    "    "
   ]
  },
  {
   "cell_type": "code",
   "execution_count": null,
   "id": "b91c7b41-96cf-4fcb-8bde-9654b066da3b",
   "metadata": {},
   "outputs": [],
   "source": [
    "ans=5\n",
    "my_list = [1, 2, 3, 4, 5]\n",
    "\n",
    "# Using slicing to get the sub-list [2, 3]\n",
    "sub_list = my_list[1:3]\n",
    "\n",
    "print(sub_list)  \n",
    "\n"
   ]
  },
  {
   "cell_type": "code",
   "execution_count": null,
   "id": "1df60d93-5c05-4ff8-a99b-0c7e9cc7c547",
   "metadata": {},
   "outputs": [],
   "source": [
    "ans=6\n",
    "\n",
    "a=5+6j\n",
    "in a, 5 is a real number and 6j is a imaginary number\n",
    "and a is a complex number"
   ]
  },
  {
   "cell_type": "code",
   "execution_count": null,
   "id": "70fd5277-f645-4c68-8551-d605590e4f42",
   "metadata": {},
   "outputs": [],
   "source": [
    "ans=7\n",
    "age=25\n"
   ]
  },
  {
   "cell_type": "code",
   "execution_count": null,
   "id": "1530ccc2-6683-4023-bb06-527faef4996d",
   "metadata": {},
   "outputs": [],
   "source": [
    "ans=8\n",
    "price=9.99\n"
   ]
  },
  {
   "cell_type": "code",
   "execution_count": null,
   "id": "e35c3eb9-9fd5-41d8-a2ba-52439761aa05",
   "metadata": {},
   "outputs": [],
   "source": [
    "ans=9\n",
    "\n"
   ]
  },
  {
   "cell_type": "code",
   "execution_count": null,
   "id": "9c336b52-3cd0-4a82-83ba-ef0e891765bb",
   "metadata": {},
   "outputs": [],
   "source": []
  },
  {
   "cell_type": "code",
   "execution_count": null,
   "id": "895c840b-4fbd-4720-90bb-8e4833f5cd74",
   "metadata": {},
   "outputs": [],
   "source": []
  },
  {
   "cell_type": "code",
   "execution_count": null,
   "id": "11450462-4dfc-43f7-8dbd-cbe69c4fbe57",
   "metadata": {},
   "outputs": [],
   "source": []
  },
  {
   "cell_type": "code",
   "execution_count": null,
   "id": "c1ec12d5-391c-4dae-b249-259819bb306d",
   "metadata": {},
   "outputs": [],
   "source": []
  },
  {
   "cell_type": "code",
   "execution_count": null,
   "id": "24fc1cfb-5482-4c06-9768-64ef9d46ffc3",
   "metadata": {},
   "outputs": [],
   "source": []
  },
  {
   "cell_type": "code",
   "execution_count": null,
   "id": "5a437127-a788-4bac-8929-5b4a5f345ef2",
   "metadata": {},
   "outputs": [],
   "source": []
  },
  {
   "cell_type": "code",
   "execution_count": null,
   "id": "b3e3079b-1a16-4bdc-9894-f65a7069cb8f",
   "metadata": {},
   "outputs": [],
   "source": []
  },
  {
   "cell_type": "code",
   "execution_count": null,
   "id": "cce74950-3ef5-4851-9435-6f03d5c3fc3c",
   "metadata": {},
   "outputs": [],
   "source": []
  },
  {
   "cell_type": "code",
   "execution_count": null,
   "id": "36d89db8-4e61-4606-9655-f8799c767b63",
   "metadata": {},
   "outputs": [],
   "source": []
  },
  {
   "cell_type": "code",
   "execution_count": null,
   "id": "02cd3d5f-8afb-41c2-9318-745980abd2aa",
   "metadata": {},
   "outputs": [],
   "source": []
  },
  {
   "cell_type": "code",
   "execution_count": null,
   "id": "a13caac5-6efb-46e9-9f02-44f7636b6dd4",
   "metadata": {},
   "outputs": [],
   "source": []
  },
  {
   "cell_type": "code",
   "execution_count": null,
   "id": "6a6af31f-7a4e-4ecb-95b9-f6981ef96fa7",
   "metadata": {},
   "outputs": [],
   "source": []
  },
  {
   "cell_type": "code",
   "execution_count": null,
   "id": "6eb55053-fa93-470e-97b6-fd956c0bee22",
   "metadata": {},
   "outputs": [],
   "source": []
  }
 ],
 "metadata": {
  "kernelspec": {
   "display_name": "Python 3 (ipykernel)",
   "language": "python",
   "name": "python3"
  },
  "language_info": {
   "codemirror_mode": {
    "name": "ipython",
    "version": 3
   },
   "file_extension": ".py",
   "mimetype": "text/x-python",
   "name": "python",
   "nbconvert_exporter": "python",
   "pygments_lexer": "ipython3",
   "version": "3.10.8"
  }
 },
 "nbformat": 4,
 "nbformat_minor": 5
}
